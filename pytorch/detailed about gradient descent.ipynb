{
 "cells": [
  {
   "cell_type": "markdown",
   "metadata": {},
   "source": [
    "# Detailed about gradient descent"
   ]
  },
  {
   "cell_type": "markdown",
   "metadata": {},
   "source": [
    "### Simpler hypothesis function"
   ]
  },
  {
   "cell_type": "code",
   "execution_count": 80,
   "metadata": {},
   "outputs": [],
   "source": [
    "import numpy as np\n",
    "import torch"
   ]
  },
  {
   "cell_type": "code",
   "execution_count": 81,
   "metadata": {},
   "outputs": [],
   "source": [
    "#data set"
   ]
  },
  {
   "cell_type": "code",
   "execution_count": 82,
   "metadata": {},
   "outputs": [],
   "source": [
    "x_train = torch.FloatTensor([[1],[2],[3]])\n",
    "y_train = torch.FloatTensor([[1],[2],[3]])"
   ]
  },
  {
   "cell_type": "code",
   "execution_count": 83,
   "metadata": {},
   "outputs": [],
   "source": [
    "#initialized model"
   ]
  },
  {
   "cell_type": "code",
   "execution_count": 84,
   "metadata": {},
   "outputs": [],
   "source": [
    "W = torch.zeros(1)"
   ]
  },
  {
   "cell_type": "code",
   "execution_count": 85,
   "metadata": {},
   "outputs": [],
   "source": [
    "# initialized Learning rate"
   ]
  },
  {
   "cell_type": "code",
   "execution_count": 86,
   "metadata": {},
   "outputs": [],
   "source": [
    "lr = 0.1"
   ]
  },
  {
   "cell_type": "markdown",
   "metadata": {},
   "source": [
    "### Original gradient descent"
   ]
  },
  {
   "cell_type": "code",
   "execution_count": 87,
   "metadata": {},
   "outputs": [
    {
     "name": "stdout",
     "output_type": "stream",
     "text": [
      "Ephoch    0/10 W: 0.000, Cost: 4.666667\n",
      "Ephoch    1/10 W: 0.933, Cost: 0.020741\n",
      "Ephoch    2/10 W: 0.996, Cost: 0.000092\n",
      "Ephoch    3/10 W: 1.000, Cost: 0.000000\n",
      "Ephoch    4/10 W: 1.000, Cost: 0.000000\n",
      "Ephoch    5/10 W: 1.000, Cost: 0.000000\n",
      "Ephoch    6/10 W: 1.000, Cost: 0.000000\n",
      "Ephoch    7/10 W: 1.000, Cost: 0.000000\n",
      "Ephoch    8/10 W: 1.000, Cost: 0.000000\n",
      "Ephoch    9/10 W: 1.000, Cost: 0.000000\n",
      "Ephoch   10/10 W: 1.000, Cost: 0.000000\n"
     ]
    }
   ],
   "source": [
    "nb_epochs = 10\n",
    "for epoch in range(nb_epochs + 1):\n",
    "    #H(x) \n",
    "    hypothesis = x_train * W\n",
    "    #cost & gradient\n",
    "    cost = torch.mean((hypothesis - y_train)**2)\n",
    "    gradient = 2*torch.mean((W*x_train - y_train)*x_train)\n",
    "    \n",
    "    print(\"Ephoch {:4d}/{} W: {:.3f}, Cost: {:.6f}\".format(epoch, nb_epochs, W.item(), cost.item()))\n",
    "    \n",
    "    # improve H(x) with cost gradient\n",
    "    \n",
    "    W -= lr * gradient"
   ]
  },
  {
   "cell_type": "markdown",
   "metadata": {},
   "source": [
    "### Gradient descent with torch.optim"
   ]
  },
  {
   "cell_type": "code",
   "execution_count": 88,
   "metadata": {},
   "outputs": [
    {
     "name": "stdout",
     "output_type": "stream",
     "text": [
      "Ephoch    0/10 W: 0.000, Cost: 4.666667\n",
      "Ephoch    1/10 W: 0.000, Cost: 4.666667\n",
      "Ephoch    2/10 W: 0.000, Cost: 4.666667\n",
      "Ephoch    3/10 W: 0.000, Cost: 4.666667\n",
      "Ephoch    4/10 W: 0.000, Cost: 4.666667\n",
      "Ephoch    5/10 W: 0.000, Cost: 4.666667\n",
      "Ephoch    6/10 W: 0.000, Cost: 4.666667\n",
      "Ephoch    7/10 W: 0.000, Cost: 4.666667\n",
      "Ephoch    8/10 W: 0.000, Cost: 4.666667\n",
      "Ephoch    9/10 W: 0.000, Cost: 4.666667\n",
      "Ephoch   10/10 W: 0.000, Cost: 4.666667\n"
     ]
    }
   ],
   "source": [
    "x_train = torch.FloatTensor([[1],[2],[3]])\n",
    "y_train = torch.FloatTensor([[1],[2],[3]])\n",
    "\n",
    "w= torch.zeros(1, requires_grad = True)\n",
    "\n",
    "#initialized optimizer\n",
    "optimizer = torch.optim.SGD([W], lr=0.15)\n",
    "\n",
    "nb_epochs = 10\n",
    "for epoch in range(nb_epochs + 1):\n",
    "    hypothesis = x_train * w\n",
    "    cost = torch.mean((hypothesis - y_train)**2)\n",
    "    \n",
    "    print(\"Ephoch {:4d}/{} W: {:.3f}, Cost: {:.6f}\".format(epoch, nb_epochs, w.item(), cost.item()))\n",
    "    \n",
    "    # improve H(x) with cost\n",
    "    optimizer.zero_grad()  #initialized gradient with 0\n",
    "    cost.backward()        #calculate gradient by cost's differential\n",
    "    optimizer.step()       #gradient descent"
   ]
  }
 ],
 "metadata": {
  "kernelspec": {
   "display_name": "Python 3",
   "language": "python",
   "name": "python3"
  },
  "language_info": {
   "codemirror_mode": {
    "name": "ipython",
    "version": 3
   },
   "file_extension": ".py",
   "mimetype": "text/x-python",
   "name": "python",
   "nbconvert_exporter": "python",
   "pygments_lexer": "ipython3",
   "version": "3.6.10"
  }
 },
 "nbformat": 4,
 "nbformat_minor": 4
}
