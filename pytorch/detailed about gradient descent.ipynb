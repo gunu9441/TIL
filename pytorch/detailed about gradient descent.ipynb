{
 "cells": [
  {
   "cell_type": "markdown",
   "metadata": {},
   "source": [
    "# Detailed about gradient descent"
   ]
  },
  {
   "cell_type": "markdown",
   "metadata": {},
   "source": [
    "### Simpler hypothesis function"
   ]
  },
  {
   "cell_type": "code",
   "execution_count": 1,
   "metadata": {},
   "outputs": [],
   "source": [
    "import numpy as np\n",
    "import torch"
   ]
  },
  {
   "cell_type": "code",
   "execution_count": 2,
   "metadata": {},
   "outputs": [],
   "source": [
    "#data set"
   ]
  },
  {
   "cell_type": "code",
   "execution_count": 3,
   "metadata": {},
   "outputs": [],
   "source": [
    "x_train = torch.FloatTensor([[1],[2],[3]])\n",
    "y_train = torch.FloatTensor([[1],[2],[3]])"
   ]
  },
  {
   "cell_type": "code",
   "execution_count": 4,
   "metadata": {},
   "outputs": [],
   "source": [
    "#initialized model"
   ]
  },
  {
   "cell_type": "code",
   "execution_count": 5,
   "metadata": {},
   "outputs": [],
   "source": [
    "W = torch.zeros(1)"
   ]
  },
  {
   "cell_type": "code",
   "execution_count": 6,
   "metadata": {},
   "outputs": [],
   "source": [
    "# initialized Learning rate"
   ]
  },
  {
   "cell_type": "code",
   "execution_count": 7,
   "metadata": {},
   "outputs": [],
   "source": [
    "lr = 0.1"
   ]
  },
  {
   "cell_type": "markdown",
   "metadata": {},
   "source": [
    "### Original gradient descent"
   ]
  },
  {
   "cell_type": "code",
   "execution_count": 8,
   "metadata": {},
   "outputs": [
    {
     "name": "stdout",
     "output_type": "stream",
     "text": [
      "Ephoch    0/10 W: 0.000, Cost: 4.666667\n",
      "Ephoch    1/10 W: 0.933, Cost: 0.020741\n",
      "Ephoch    2/10 W: 0.996, Cost: 0.000092\n",
      "Ephoch    3/10 W: 1.000, Cost: 0.000000\n",
      "Ephoch    4/10 W: 1.000, Cost: 0.000000\n",
      "Ephoch    5/10 W: 1.000, Cost: 0.000000\n",
      "Ephoch    6/10 W: 1.000, Cost: 0.000000\n",
      "Ephoch    7/10 W: 1.000, Cost: 0.000000\n",
      "Ephoch    8/10 W: 1.000, Cost: 0.000000\n",
      "Ephoch    9/10 W: 1.000, Cost: 0.000000\n",
      "Ephoch   10/10 W: 1.000, Cost: 0.000000\n"
     ]
    }
   ],
   "source": [
    "nb_epochs = 10\n",
    "for epoch in range(nb_epochs + 1):\n",
    "    #H(x)  \n",
    "    hypothesis = x_train * W\n",
    "    #cost & gradient\n",
    "    cost = torch.mean((hypothesis - y_train)**2)\n",
    "    gradient = 2*torch.mean((W*x_train - y_train)*x_train)\n",
    "    \n",
    "    print(\"Ephoch {:4d}/{} W: {:.3f}, Cost: {:.6f}\".format(epoch, nb_epochs, W.item(), cost.item()))\n",
    "    \n",
    "    # improve H(x) with cost gradient\n",
    "    \n",
    "    W -= lr * gradient"
   ]
  },
  {
   "cell_type": "markdown",
   "metadata": {},
   "source": [
    "### Gradient descent with torch.optim"
   ]
  },
  {
   "cell_type": "code",
   "execution_count": 9,
   "metadata": {},
   "outputs": [
    {
     "name": "stdout",
     "output_type": "stream",
     "text": [
      "Ephoch    0/10 w: 0.000, Cost: 4.666667\n",
      "Ephoch    1/10 w: 1.400, Cost: 0.746667\n",
      "Ephoch    2/10 w: 0.840, Cost: 0.119467\n",
      "Ephoch    3/10 w: 1.064, Cost: 0.019115\n",
      "Ephoch    4/10 w: 0.974, Cost: 0.003058\n",
      "Ephoch    5/10 w: 1.010, Cost: 0.000489\n",
      "Ephoch    6/10 w: 0.996, Cost: 0.000078\n",
      "Ephoch    7/10 w: 1.002, Cost: 0.000013\n",
      "Ephoch    8/10 w: 0.999, Cost: 0.000002\n",
      "Ephoch    9/10 w: 1.000, Cost: 0.000000\n",
      "Ephoch   10/10 w: 1.000, Cost: 0.000000\n"
     ]
    }
   ],
   "source": [
    "x_train = torch.FloatTensor([[1],[2],[3]])\n",
    "y_train = torch.FloatTensor([[1],[2],[3]])\n",
    "\n",
    "w= torch.zeros(1, requires_grad = True)\n",
    "\n",
    "#initialized optimizer\n",
    "optimizer = torch.optim.SGD([w], lr=0.15)\n",
    "\n",
    "nb_epochs = 10\n",
    "for epoch in range(nb_epochs + 1):\n",
    "    hypothesis = x_train * w\n",
    "    cost = torch.mean((hypothesis - y_train)**2)\n",
    "    \n",
    "    print(\"Ephoch {:4d}/{} w: {:.3f}, Cost: {:.6f}\".format(epoch, nb_epochs, w.item(), cost.item()))\n",
    "    \n",
    "    # improve H(x) with cost\n",
    "    optimizer.zero_grad()  #initialized gradient with 0\n",
    "    cost.backward()        #calculate gradient by cost's differential\n",
    "    optimizer.step()       #gradient descent"
   ]
  },
  {
   "cell_type": "code",
   "execution_count": null,
   "metadata": {},
   "outputs": [],
   "source": []
  }
 ],
 "metadata": {
  "kernelspec": {
   "display_name": "Python 3",
   "language": "python",
   "name": "python3"
  },
  "language_info": {
   "codemirror_mode": {
    "name": "ipython",
    "version": 3
   },
   "file_extension": ".py",
   "mimetype": "text/x-python",
   "name": "python",
   "nbconvert_exporter": "python",
   "pygments_lexer": "ipython3",
   "version": "3.6.10"
  }
 },
 "nbformat": 4,
 "nbformat_minor": 4
}
