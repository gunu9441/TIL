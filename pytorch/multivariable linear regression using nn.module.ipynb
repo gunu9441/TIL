{
 "cells": [
  {
   "cell_type": "markdown",
   "metadata": {},
   "source": [
    "# Multivariable Linear regression using nn.Module"
   ]
  },
  {
   "cell_type": "code",
   "execution_count": 39,
   "metadata": {},
   "outputs": [],
   "source": [
    "import numpy as np\n",
    "import torch\n",
    "import torch.nn as nn\n",
    "import torch.nn.functional as F"
   ]
  },
  {
   "cell_type": "code",
   "execution_count": 40,
   "metadata": {},
   "outputs": [],
   "source": [
    "class MultivariateLinearRegressionModel(nn.Module):\n",
    "    def __init__(self):\n",
    "        super().__init__()\n",
    "        self.linear = nn.Linear(3,1)\n",
    "    \n",
    "    def forward(self,x):\n",
    "        return self.linear(x)"
   ]
  },
  {
   "cell_type": "code",
   "execution_count": 41,
   "metadata": {},
   "outputs": [],
   "source": [
    "#data\n",
    "x_train = torch.FloatTensor([[73, 80, 75],\n",
    "                            [93, 88, 93],\n",
    "                            [89, 91, 90],\n",
    "                            [96, 98, 100],\n",
    "                            [73, 66, 70]])\n",
    "y_train = torch.FloatTensor([[152], [185], [180], [196], [142]])\n",
    "# initialize model\n",
    "model = MultivariateLinearRegressionModel()"
   ]
  },
  {
   "cell_type": "code",
   "execution_count": 43,
   "metadata": {},
   "outputs": [],
   "source": [
    "# optimizer\n",
    "optimizer = torch.optim.SGD([W,b], lr =1e-5)"
   ]
  },
  {
   "cell_type": "code",
   "execution_count": 38,
   "metadata": {},
   "outputs": [
    {
     "name": "stdout",
     "output_type": "stream",
     "text": [
      "Ephoch    0/20 hypothesis: tensor([-56.8668, -66.1697, -66.4665, -70.7001, -51.2999]), Cost: 55190.210938\n",
      "Ephoch    1/20 hypothesis: tensor([-56.8668, -66.1697, -66.4665, -70.7001, -51.2999]), Cost: 55190.210938\n",
      "Ephoch    2/20 hypothesis: tensor([-56.8668, -66.1697, -66.4665, -70.7001, -51.2999]), Cost: 55190.210938\n",
      "Ephoch    3/20 hypothesis: tensor([-56.8668, -66.1697, -66.4665, -70.7001, -51.2999]), Cost: 55190.210938\n",
      "Ephoch    4/20 hypothesis: tensor([-56.8668, -66.1697, -66.4665, -70.7001, -51.2999]), Cost: 55190.210938\n",
      "Ephoch    5/20 hypothesis: tensor([-56.8668, -66.1697, -66.4665, -70.7001, -51.2999]), Cost: 55190.210938\n",
      "Ephoch    6/20 hypothesis: tensor([-56.8668, -66.1697, -66.4665, -70.7001, -51.2999]), Cost: 55190.210938\n",
      "Ephoch    7/20 hypothesis: tensor([-56.8668, -66.1697, -66.4665, -70.7001, -51.2999]), Cost: 55190.210938\n",
      "Ephoch    8/20 hypothesis: tensor([-56.8668, -66.1697, -66.4665, -70.7001, -51.2999]), Cost: 55190.210938\n",
      "Ephoch    9/20 hypothesis: tensor([-56.8668, -66.1697, -66.4665, -70.7001, -51.2999]), Cost: 55190.210938\n",
      "Ephoch   10/20 hypothesis: tensor([-56.8668, -66.1697, -66.4665, -70.7001, -51.2999]), Cost: 55190.210938\n",
      "Ephoch   11/20 hypothesis: tensor([-56.8668, -66.1697, -66.4665, -70.7001, -51.2999]), Cost: 55190.210938\n",
      "Ephoch   12/20 hypothesis: tensor([-56.8668, -66.1697, -66.4665, -70.7001, -51.2999]), Cost: 55190.210938\n",
      "Ephoch   13/20 hypothesis: tensor([-56.8668, -66.1697, -66.4665, -70.7001, -51.2999]), Cost: 55190.210938\n",
      "Ephoch   14/20 hypothesis: tensor([-56.8668, -66.1697, -66.4665, -70.7001, -51.2999]), Cost: 55190.210938\n",
      "Ephoch   15/20 hypothesis: tensor([-56.8668, -66.1697, -66.4665, -70.7001, -51.2999]), Cost: 55190.210938\n",
      "Ephoch   16/20 hypothesis: tensor([-56.8668, -66.1697, -66.4665, -70.7001, -51.2999]), Cost: 55190.210938\n",
      "Ephoch   17/20 hypothesis: tensor([-56.8668, -66.1697, -66.4665, -70.7001, -51.2999]), Cost: 55190.210938\n",
      "Ephoch   18/20 hypothesis: tensor([-56.8668, -66.1697, -66.4665, -70.7001, -51.2999]), Cost: 55190.210938\n",
      "Ephoch   19/20 hypothesis: tensor([-56.8668, -66.1697, -66.4665, -70.7001, -51.2999]), Cost: 55190.210938\n",
      "Ephoch   20/20 hypothesis: tensor([-56.8668, -66.1697, -66.4665, -70.7001, -51.2999]), Cost: 55190.210938\n"
     ]
    }
   ],
   "source": [
    "nb_epochs = 20\n",
    "for epoch in range(nb_epochs + 1):\n",
    "    hypothesis = model(x_train)\n",
    "    cost = F.mse_loss(hypothesis,y_train)\n",
    "    \n",
    "    # improve H(x) with cost\n",
    "    optimizer.zero_grad()  #initialized gradient with 0\n",
    "    cost.backward()        #calculate gradient by cost's differential\n",
    "    optimizer.step()       #gradient descent\n",
    "    \n",
    "    print(\"Ephoch {:4d}/{} hypothesis: {}, Cost: {:.6f}\".format(epoch, nb_epochs,hypothesis.squeeze().detach(), cost.item()))    "
   ]
  },
  {
   "cell_type": "code",
   "execution_count": null,
   "metadata": {},
   "outputs": [],
   "source": []
  }
 ],
 "metadata": {
  "kernelspec": {
   "display_name": "Python 3",
   "language": "python",
   "name": "python3"
  },
  "language_info": {
   "codemirror_mode": {
    "name": "ipython",
    "version": 3
   },
   "file_extension": ".py",
   "mimetype": "text/x-python",
   "name": "python",
   "nbconvert_exporter": "python",
   "pygments_lexer": "ipython3",
   "version": "3.6.10"
  }
 },
 "nbformat": 4,
 "nbformat_minor": 4
}
