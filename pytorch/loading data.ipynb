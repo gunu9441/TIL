{
 "cells": [
  {
   "cell_type": "markdown",
   "metadata": {},
   "source": [
    "# Loading data"
   ]
  },
  {
   "cell_type": "code",
   "execution_count": 1,
   "metadata": {},
   "outputs": [],
   "source": [
    "import numpy as np\n",
    "import torch\n",
    "from torch.utils.data import Dataset\n",
    "from torch.utils.data import DataLoader"
   ]
  },
  {
   "cell_type": "code",
   "execution_count": 2,
   "metadata": {},
   "outputs": [],
   "source": [
    "class CustomDataset(Dataset):\n",
    "    def __init__(self):\n",
    "        self.x_data = [[73, 80, 75],\n",
    "                       [93, 88, 93],\n",
    "                       [89, 91, 90],\n",
    "                       [96, 98, 100],\n",
    "                       [73, 66, 70]]\n",
    "        self.y_data = [[152], [185], [180], [196], [142]]\n",
    "        \n",
    "    def __len__(self):\n",
    "        return len(self.x_data)\n",
    "    \n",
    "    def __getitem__(self, idx):\n",
    "        x = torch.FloatTensor(self.x_data[idx])\n",
    "        y = torch.FloatTensor(self.y_data[idx])\n",
    "        \n",
    "        return x, y\n",
    "    \n",
    "dataset = CustomDataset()"
   ]
  },
  {
   "cell_type": "code",
   "execution_count": 3,
   "metadata": {},
   "outputs": [],
   "source": [
    "dataloader = DataLoader(dataset, batch_size=2,shuffle=True,)"
   ]
  },
  {
   "cell_type": "code",
   "execution_count": 4,
   "metadata": {},
   "outputs": [],
   "source": [
    "# initialized model\n",
    "W = torch.zeros((3,1), requires_grad = True)\n",
    "b = torch.zeros(1,requires_grad = True)\n",
    "# optimizer\n",
    "optimizer = torch.optim.SGD([W,b], lr =1e-5)"
   ]
  },
  {
   "cell_type": "code",
   "execution_count": 6,
   "metadata": {},
   "outputs": [
    {
     "name": "stdout",
     "output_type": "stream",
     "text": [
      "Ephoch    0/20 Batch: 1/3, Cost: 1.475699\n",
      "Ephoch    0/20 Batch: 2/3, Cost: 2.085504\n",
      "Ephoch    0/20 Batch: 3/3, Cost: 1.281709\n",
      "Ephoch    1/20 Batch: 1/3, Cost: 0.317429\n",
      "Ephoch    1/20 Batch: 2/3, Cost: 1.971729\n",
      "Ephoch    1/20 Batch: 3/3, Cost: 4.236300\n",
      "Ephoch    2/20 Batch: 1/3, Cost: 2.181867\n",
      "Ephoch    2/20 Batch: 2/3, Cost: 1.866292\n",
      "Ephoch    2/20 Batch: 3/3, Cost: 2.271888\n",
      "Ephoch    3/20 Batch: 1/3, Cost: 1.809999\n",
      "Ephoch    3/20 Batch: 2/3, Cost: 1.427386\n",
      "Ephoch    3/20 Batch: 3/3, Cost: 2.168267\n",
      "Ephoch    4/20 Batch: 1/3, Cost: 1.623167\n",
      "Ephoch    4/20 Batch: 2/3, Cost: 2.361641\n",
      "Ephoch    4/20 Batch: 3/3, Cost: 0.597710\n",
      "Ephoch    5/20 Batch: 1/3, Cost: 1.521181\n",
      "Ephoch    5/20 Batch: 2/3, Cost: 2.337849\n",
      "Ephoch    5/20 Batch: 3/3, Cost: 0.630155\n",
      "Ephoch    6/20 Batch: 1/3, Cost: 1.417077\n",
      "Ephoch    6/20 Batch: 2/3, Cost: 2.312393\n",
      "Ephoch    6/20 Batch: 3/3, Cost: 1.047799\n",
      "Ephoch    7/20 Batch: 1/3, Cost: 2.503681\n",
      "Ephoch    7/20 Batch: 2/3, Cost: 0.823163\n",
      "Ephoch    7/20 Batch: 3/3, Cost: 3.496026\n",
      "Ephoch    8/20 Batch: 1/3, Cost: 1.441892\n",
      "Ephoch    8/20 Batch: 2/3, Cost: 3.104344\n",
      "Ephoch    8/20 Batch: 3/3, Cost: 2.811107\n",
      "Ephoch    9/20 Batch: 1/3, Cost: 1.576876\n",
      "Ephoch    9/20 Batch: 2/3, Cost: 2.258581\n",
      "Ephoch    9/20 Batch: 3/3, Cost: 0.649291\n",
      "Ephoch   10/20 Batch: 1/3, Cost: 0.367139\n",
      "Ephoch   10/20 Batch: 2/3, Cost: 2.729707\n",
      "Ephoch   10/20 Batch: 3/3, Cost: 2.385652\n",
      "Ephoch   11/20 Batch: 1/3, Cost: 1.805541\n",
      "Ephoch   11/20 Batch: 2/3, Cost: 2.816223\n",
      "Ephoch   11/20 Batch: 3/3, Cost: 3.010545\n",
      "Ephoch   12/20 Batch: 1/3, Cost: 0.398250\n",
      "Ephoch   12/20 Batch: 2/3, Cost: 2.763644\n",
      "Ephoch   12/20 Batch: 3/3, Cost: 2.394616\n",
      "Ephoch   13/20 Batch: 1/3, Cost: 1.778629\n",
      "Ephoch   13/20 Batch: 2/3, Cost: 1.644137\n",
      "Ephoch   13/20 Batch: 3/3, Cost: 1.549671\n",
      "Ephoch   14/20 Batch: 1/3, Cost: 1.507331\n",
      "Ephoch   14/20 Batch: 2/3, Cost: 0.724473\n",
      "Ephoch   14/20 Batch: 3/3, Cost: 4.952690\n",
      "Ephoch   15/20 Batch: 1/3, Cost: 1.805533\n",
      "Ephoch   15/20 Batch: 2/3, Cost: 1.330247\n",
      "Ephoch   15/20 Batch: 3/3, Cost: 1.955884\n",
      "Ephoch   16/20 Batch: 1/3, Cost: 2.470805\n",
      "Ephoch   16/20 Batch: 2/3, Cost: 1.422843\n",
      "Ephoch   16/20 Batch: 3/3, Cost: 0.895492\n",
      "Ephoch   17/20 Batch: 1/3, Cost: 2.520097\n",
      "Ephoch   17/20 Batch: 2/3, Cost: 1.431787\n",
      "Ephoch   17/20 Batch: 3/3, Cost: 0.872538\n",
      "Ephoch   18/20 Batch: 1/3, Cost: 2.611847\n",
      "Ephoch   18/20 Batch: 2/3, Cost: 1.398691\n",
      "Ephoch   18/20 Batch: 3/3, Cost: 0.546119\n",
      "Ephoch   19/20 Batch: 1/3, Cost: 2.317628\n",
      "Ephoch   19/20 Batch: 2/3, Cost: 1.396489\n",
      "Ephoch   19/20 Batch: 3/3, Cost: 0.960601\n",
      "Ephoch   20/20 Batch: 1/3, Cost: 3.938857\n",
      "Ephoch   20/20 Batch: 2/3, Cost: 1.694548\n",
      "Ephoch   20/20 Batch: 3/3, Cost: 0.534432\n"
     ]
    }
   ],
   "source": [
    "nb_epochs = 20\n",
    "for epoch in range(nb_epochs + 1):\n",
    "    for batch_idx, samples in enumerate(dataloader):\n",
    "        x_train, y_train = samples\n",
    "        hypothesis = x_train.matmul(W) + b\n",
    "        cost = torch.mean((hypothesis - y_train)**2)\n",
    "    \n",
    "        # improve H(x) with cost\n",
    "        optimizer.zero_grad()  #initialized gradient with 0\n",
    "        cost.backward()        #calculate gradient by cost's differential\n",
    "        optimizer.step()       #gradient descent\n",
    "    \n",
    "        print(\"Ephoch {:4d}/{} Batch: {}/{}, Cost: {:.6f}\".format(epoch, nb_epochs, batch_idx+1, len(dataloader), cost.item()))    "
   ]
  },
  {
   "cell_type": "code",
   "execution_count": null,
   "metadata": {},
   "outputs": [],
   "source": []
  }
 ],
 "metadata": {
  "kernelspec": {
   "display_name": "Python 3",
   "language": "python",
   "name": "python3"
  },
  "language_info": {
   "codemirror_mode": {
    "name": "ipython",
    "version": 3
   },
   "file_extension": ".py",
   "mimetype": "text/x-python",
   "name": "python",
   "nbconvert_exporter": "python",
   "pygments_lexer": "ipython3",
   "version": "3.6.10"
  }
 },
 "nbformat": 4,
 "nbformat_minor": 4
}
